{
 "cells": [
  {
   "cell_type": "code",
   "execution_count": 2,
   "metadata": {},
   "outputs": [],
   "source": [
    "%matplotlib notebook"
   ]
  },
  {
   "cell_type": "code",
   "execution_count": 3,
   "metadata": {},
   "outputs": [],
   "source": [
    "# Import our dependencies\n",
    "import matplotlib.pyplot as plt\n",
    "import numpy as np"
   ]
  },
  {
   "cell_type": "code",
   "execution_count": 4,
   "metadata": {},
   "outputs": [],
   "source": [
    "# Labels for the sections of our pie chart\n",
    "labels = [\"Humans\", \"Smurfs\", \"Hobbits\", \"Ninjas\"]\n",
    "\n",
    "# The values of each section of the pie chart\n",
    "sizes = [220, 95, 80, 100]\n",
    "\n",
    "# The colors of each section of the pie chart\n",
    "colors = [\"red\", \"orange\", \"lightcoral\", \"lightskyblue\"]\n",
    "\n",
    "# Tells matplotlib to seperate the \"Humans\" section from the others\n",
    "explode = (0.1, 0, 0, 0)"
   ]
  },
  {
   "cell_type": "code",
   "execution_count": 6,
   "metadata": {},
   "outputs": [
    {
     "ename": "TypeError",
     "evalue": "pie() got an unexpected keyword argument 'alpha'",
     "output_type": "error",
     "traceback": [
      "\u001b[0;31m---------------------------------------------------------------------------\u001b[0m",
      "\u001b[0;31mTypeError\u001b[0m                                 Traceback (most recent call last)",
      "\u001b[0;32m<ipython-input-6-57aaa947f3ea>\u001b[0m in \u001b[0;36m<module>\u001b[0;34m\u001b[0m\n\u001b[1;32m      2\u001b[0m \u001b[0;31m# Automatically finds the percentages of each part of the pie chart\u001b[0m\u001b[0;34m\u001b[0m\u001b[0;34m\u001b[0m\u001b[0;34m\u001b[0m\u001b[0m\n\u001b[1;32m      3\u001b[0m plt.pie(sizes, explode=explode, labels=labels, colors=colors,\n\u001b[0;32m----> 4\u001b[0;31m         autopct=\"%1.1f%%\", shadow=True, alpha=0.3 ,startangle=140)\n\u001b[0m",
      "\u001b[0;31mTypeError\u001b[0m: pie() got an unexpected keyword argument 'alpha'"
     ]
    }
   ],
   "source": [
    "# Creates the pie chart based upon the values above\n",
    "# Automatically finds the percentages of each part of the pie chart\n",
    "plt.pie(sizes, explode=explode, labels=labels, colors=colors,\n",
    "        autopct=\"%1.1f%%\", shadow=True, alpha=0.3 ,startangle=140)"
   ]
  },
  {
   "cell_type": "code",
   "execution_count": 5,
   "metadata": {},
   "outputs": [
    {
     "data": {
      "text/plain": [
       "(-1.1814062709521158,\n",
       " 1.1242339029468358,\n",
       " -1.1955021571151263,\n",
       " 1.12770243562761)"
      ]
     },
     "execution_count": 5,
     "metadata": {},
     "output_type": "execute_result"
    }
   ],
   "source": [
    "# Tells matplotlib that we want a pie chart with equal axes\n",
    "plt.axis(\"equal\")"
   ]
  },
  {
   "cell_type": "code",
   "execution_count": null,
   "metadata": {},
   "outputs": [],
   "source": []
  }
 ],
 "metadata": {
  "kernelspec": {
   "display_name": "Python 3",
   "language": "python",
   "name": "python3"
  },
  "language_info": {
   "codemirror_mode": {
    "name": "ipython",
    "version": 3
   },
   "file_extension": ".py",
   "mimetype": "text/x-python",
   "name": "python",
   "nbconvert_exporter": "python",
   "pygments_lexer": "ipython3",
   "version": "3.7.4"
  }
 },
 "nbformat": 4,
 "nbformat_minor": 2
}
