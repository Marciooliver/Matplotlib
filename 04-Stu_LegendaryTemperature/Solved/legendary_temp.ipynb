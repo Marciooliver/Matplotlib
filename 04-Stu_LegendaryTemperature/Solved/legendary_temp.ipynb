{
 "cells": [
  {
   "cell_type": "code",
   "execution_count": 1,
   "metadata": {},
   "outputs": [],
   "source": [
    "# Include this line to make plots interactive\n",
    "# %matplotlib notebook"
   ]
  },
  {
   "cell_type": "code",
   "execution_count": 2,
   "metadata": {},
   "outputs": [],
   "source": [
    "# Dependencies\n",
    "import matplotlib.pyplot as plt\n",
    "import numpy as np"
   ]
  },
  {
   "cell_type": "code",
   "execution_count": 3,
   "metadata": {},
   "outputs": [],
   "source": [
    "# Set x axis to numerical value for month\n",
    "x_axis = np.arange(1,13,1)\n",
    "# x_axis"
   ]
  },
  {
   "cell_type": "code",
   "execution_count": 4,
   "metadata": {},
   "outputs": [],
   "source": [
    "# Avearge weather temp\n",
    "points_F = [39, 42, 51, 62, 72, 82, 86, 84, 77, 65, 55, 44]"
   ]
  },
  {
   "cell_type": "code",
   "execution_count": 5,
   "metadata": {},
   "outputs": [],
   "source": [
    "# Convert to Celsius C = (F-32) * 0.56\n",
    "points_C = [(x-32) * 0.56 for x in points_F]\n",
    "# points_C"
   ]
  },
  {
   "cell_type": "code",
   "execution_count": 6,
   "metadata": {},
   "outputs": [
    {
     "data": {
      "text/plain": [
       "Text(0, 0.5, 'Degrees')"
      ]
     },
     "execution_count": 6,
     "metadata": {},
     "output_type": "execute_result"
    },
    {
     "data": {
      "image/png": "[encoded data removed]",
      "text/plain": [
       "<Figure size 432x288 with 1 Axes>"
      ]
     },
     "metadata": {
      "needs_background": "light"
     },
     "output_type": "display_data"
    }
   ],
   "source": [
    "# Create a handle for each plot\n",
    "fahrenheit, = plt.plot(x_axis, points_F, marker=\"+\",color=\"blue\", linewidth=1, label=\"Fahrenheit\")\n",
    "celcius, = plt.plot(x_axis, points_C, marker=\"s\", color=\"Red\", linewidth=1, label=\"Celcius\")\n",
    "plt.legend(handles=[fahrenheit, celcius], loc=\"best\")\n",
    "plt.xlabel(\"Months\")\n",
    "plt.ylabel(\"Degrees\")"
   ]
  },
  {
   "cell_type": "code",
   "execution_count": null,
   "metadata": {},
   "outputs": [],
   "source": [
    "# Set our legend to where the chart thinks is best\n",
    "plt.legend(handles=[fahrenheit, celcius], loc=\"best\")"
   ]
  },
  {
   "cell_type": "code",
   "execution_count": null,
   "metadata": {},
   "outputs": [],
   "source": [
    "# Create labels for the X and Y axis\n",
    "plt.xlabel(\"Months\")\n",
    "plt.ylabel(\"Degrees\")"
   ]
  },
  {
   "cell_type": "code",
   "execution_count": null,
   "metadata": {},
   "outputs": [],
   "source": [
    "# Save and display the chart\n",
    "plt.savefig(\"../Images/avg_temp.png\")\n",
    "plt.show()"
   ]
  }
 ],
 "metadata": {
  "@webio": {
   "lastCommId": null,
   "lastKernelId": null
  },
  "anaconda-cloud": {},
  "kernelspec": {
   "display_name": "Python 3",
   "language": "python",
   "name": "python3"
  },
  "language_info": {
   "codemirror_mode": {
    "name": "ipython",
    "version": 3
   },
   "file_extension": ".py",
   "mimetype": "text/x-python",
   "name": "python",
   "nbconvert_exporter": "python",
   "pygments_lexer": "ipython3",
   "version": "3.7.3"
  }
 },
 "nbformat": 4,
 "nbformat_minor": 2
}
